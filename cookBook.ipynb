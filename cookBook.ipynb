{
 "cells": [
  {
   "cell_type": "code",
   "execution_count": 1,
   "metadata": {},
   "outputs": [],
   "source": [
    "import langchain \n",
    "import os \n",
    "import openai \n"
   ]
  },
  {
   "cell_type": "code",
   "execution_count": 2,
   "metadata": {},
   "outputs": [
    {
     "name": "stderr",
     "output_type": "stream",
     "text": [
      "d:\\projects\\CookBook\\cookbook\\lib\\site-packages\\langchain_core\\_api\\deprecation.py:117: LangChainDeprecationWarning: The class `langchain_community.llms.openai.OpenAI` was deprecated in langchain-community 0.0.10 and will be removed in 0.2.0. An updated version of the class exists in the langchain-openai package and should be used instead. To use it run `pip install -U langchain-openai` and import as `from langchain_openai import OpenAI`.\n",
      "  warn_deprecated(\n",
      "d:\\projects\\CookBook\\cookbook\\lib\\site-packages\\langchain_core\\_api\\deprecation.py:117: LangChainDeprecationWarning: The function `__call__` was deprecated in LangChain 0.1.7 and will be removed in 0.2.0. Use invoke instead.\n",
      "  warn_deprecated(\n"
     ]
    },
    {
     "name": "stdout",
     "output_type": "stream",
     "text": [
      "\n",
      "\n",
      "Ingredients:\n",
      "- 3 eggs\n",
      "- 1 small onion, chopped\n",
      "- 1 small tomato, chopped\n",
      "- 1 green chili, chopped\n",
      "- 1/2 tsp ginger-garlic paste\n",
      "- 1/4 tsp red chili powder\n",
      "- 1/4 tsp turmeric powder\n",
      "- 1/4 tsp cumin powder\n",
      "- Salt to taste\n",
      "- 1 tbsp oil\n",
      "- Fresh coriander leaves for garnish\n",
      "\n",
      "Instructions:\n",
      "\n",
      "1. Heat oil in a pan over medium heat. Add chopped onions and sauté until they turn translucent.\n",
      "\n",
      "2. Add the ginger-garlic paste and chopped green chili. Sauté for a minute.\n",
      "\n",
      "3. Add the chopped tomatoes and cook until they become soft and mushy.\n",
      "\n",
      "4. In a separate bowl, beat the eggs with salt, red chili powder, turmeric powder, and cumin powder.\n",
      "\n",
      "5. Pour the beaten eggs into the pan and mix it with the onion-tomato mixture. Cook for 2-3 minutes, stirring occasionally.\n",
      "\n",
      "6. Once the eggs are cooked, turn off the heat and garnish with fresh coriander leaves.\n",
      "\n",
      "7. Serve the egg burji hot with toast or as a filling in a wrap or sandwich. Enjoy\n"
     ]
    }
   ],
   "source": [
    "\n",
    "# Testing api for response to the requests\n",
    "from langchain.llms import OpenAI\n",
    "llm = OpenAI(temperature = 0.7, openai_api_key = os.environ['openai_api_key'])\n",
    "recipe = llm(\"suggest an easy recipe for egg burji.\")\n",
    "print(recipe)"
   ]
  },
  {
   "cell_type": "code",
   "execution_count": 3,
   "metadata": {},
   "outputs": [
    {
     "name": "stdout",
     "output_type": "stream",
     "text": [
      "\n",
      "\n",
      "Ingredients:\n",
      "- 2 cups basmati rice\n",
      "- 1 kg chicken, cut into pieces\n",
      "- 2 onions, thinly sliced\n",
      "- 1 cup yogurt\n",
      "- 1 tbsp ginger-garlic paste\n",
      "- 1 tsp red chili powder\n",
      "- 1 tsp coriander powder\n",
      "- 1 tsp cumin powder\n",
      "- 1 tsp garam masala\n",
      "- Salt to taste\n",
      "- 1/4 cup chopped mint leaves\n",
      "- 1/4 cup chopped coriander leaves\n",
      "- 1/4 cup fried onions\n",
      "- 1/4 cup ghee\n",
      "- 1/4 cup oil\n",
      "- 1/4 cup milk\n",
      "- A pinch of saffron\n",
      "- Whole spices (1 bay leaf, 2 cinnamon sticks, 4 cloves, 4 cardamom pods)\n",
      "- 2 boiled eggs (optional)\n",
      "\n",
      "Instructions:\n",
      "\n",
      "1. Soak the basmati rice in water for 30 minutes. Drain and set aside.\n",
      "2. In a large bowl, marinate the chicken pieces with yogurt, ginger-garlic paste, red chili powder, coriander powder, cumin powder, garam masala, and salt. Let it marinate for at least 30 minutes\n"
     ]
    }
   ],
   "source": [
    "# trail 2\n",
    "recipe = llm(\"suggest an easy recipe for Hyderabadi dum Biryani.\")\n",
    "print(recipe)"
   ]
  },
  {
   "cell_type": "code",
   "execution_count": 4,
   "metadata": {},
   "outputs": [
    {
     "data": {
      "text/plain": [
       "'suggest an recipe for egg burji'"
      ]
     },
     "execution_count": 4,
     "metadata": {},
     "output_type": "execute_result"
    }
   ],
   "source": [
    "# Using prompt  \n",
    "from langchain.prompts import PromptTemplate\n",
    "\n",
    "My_Template = PromptTemplate(\n",
    "    input_variables = ['Food'],\n",
    "    template= \"suggest an recipe for {Food}\"\n",
    ") \n",
    "My_Template.format(Food =\"egg burji\")"
   ]
  },
  {
   "cell_type": "code",
   "execution_count": 5,
   "metadata": {},
   "outputs": [],
   "source": [
    "# using chain\n",
    "from langchain.chains import LLMChain"
   ]
  },
  {
   "cell_type": "code",
   "execution_count": 6,
   "metadata": {},
   "outputs": [],
   "source": [
    "My_Template1=PromptTemplate(\n",
    "    input_variables = ['Ingredients'],\n",
    "    template= \"This are the {Ingredients} available for cooking\"\n",
    ")\n",
    "Ingredient_chain = LLMChain(llm=llm, prompt=My_Template1)\n",
    "\n",
    "My_Template2=PromptTemplate(\n",
    "    input_variables = ['Cusine'],\n",
    "    template= \"Suggest a step by step easy recipe for this {Cusine} using the {Ingredients}\"\n",
    ")\n",
    "recipe_chain = LLMChain(llm=llm, prompt= My_Template2)"
   ]
  },
  {
   "cell_type": "code",
   "execution_count": 7,
   "metadata": {},
   "outputs": [],
   "source": [
    "from langchain.chains import SimpleSequentialChain"
   ]
  },
  {
   "cell_type": "code",
   "execution_count": 8,
   "metadata": {},
   "outputs": [],
   "source": [
    "# trying to take the ingredients from user input \n",
    "\n",
    "Ingredient=[]\n",
    "num_of_Ingredients = int(input(\"Enter the number of ingredients:\"))"
   ]
  },
  {
   "cell_type": "code",
   "execution_count": 7,
   "metadata": {},
   "outputs": [],
   "source": [
    "\n",
    "\n",
    "\n",
    "input_values = input(\"Enter the ingredients in the list separated by space:\\n\")\n",
    "Ingredient = input_values.split()\n",
    "Cusine= input(\"which cusine would you like me to suggest\")\n",
    "chain = SimpleSequentialChain(chains = [Ingredient_chain, recipe_chain])\n",
    "response = chain.run(Ingredient,Cusine)\n",
    "print(response)\n",
    "\n",
    "\n",
    "# works halfway"
   ]
  },
  {
   "cell_type": "code",
   "execution_count": null,
   "metadata": {},
   "outputs": [],
   "source": [
    "# missinterpreted took the ingredients as a request for recipe \n",
    "from langchain.chains import SimpleSequentialChain\n",
    "\n",
    "Ingredient=[]\n",
    "num_of_Ingredients = int(input())\n",
    "input_values = input(\"Enter the ingredients in the list separated by space:\\n\")\n",
    "Ingredient = input_values.split()\n",
    "Cusine= input(\"which cusine would you like me to suggest\")\n",
    "chain = SimpleSequentialChain(chains = [Ingredient_chain, recipe_chain])\n",
    "response = chain.run(Ingredient)\n",
    "print(response)"
   ]
  }
 ],
 "metadata": {
  "colab": {
   "provenance": []
  },
  "kernelspec": {
   "display_name": "Python 3 (ipykernel)",
   "language": "python",
   "name": "python3"
  },
  "language_info": {
   "codemirror_mode": {
    "name": "ipython",
    "version": 3
   },
   "file_extension": ".py",
   "mimetype": "text/x-python",
   "name": "python",
   "nbconvert_exporter": "python",
   "pygments_lexer": "ipython3",
   "version": "3.9.0"
  }
 },
 "nbformat": 4,
 "nbformat_minor": 1
}
